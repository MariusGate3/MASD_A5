{
 "cells": [
  {
   "cell_type": "markdown",
   "metadata": {},
   "source": [
    "## Assigment 5 notebook\n",
    "\n",
    "#### In this notebook we will the probability exercises in assignment 5."
   ]
  },
  {
   "cell_type": "code",
   "execution_count": 331,
   "metadata": {},
   "outputs": [],
   "source": [
    "# load the packages used for calculation and plotting\n",
    "%matplotlib inline\n",
    "import numpy as np\n",
    "import matplotlib.pyplot as plt\n",
    "from typing import Callable\n",
    "from scipy.integrate import quad\n",
    "import statsmodels.api as sm\n",
    "import statsmodels.formula.api as smf\n",
    "import pandas as panda"
   ]
  },
  {
   "cell_type": "markdown",
   "metadata": {},
   "source": [
    "### Exercise 1 (a)"
   ]
  },
  {
   "cell_type": "code",
   "execution_count": 332,
   "metadata": {},
   "outputs": [
    {
     "name": "stdout",
     "output_type": "stream",
     "text": [
      "probs: [0.0, 0.029411764705882353, 0.058823529411764705, 0.38235294117647056, 0.2647058823529412, 0.23529411764705882, 0.029411764705882353]\n",
      "sum of all probablities: 1.0\n"
     ]
    },
    {
     "data": {
      "image/png": "[encoded data removed]",
      "text/plain": [
       "<Figure size 640x480 with 1 Axes>"
      ]
     },
     "metadata": {},
     "output_type": "display_data"
    }
   ],
   "source": [
    "data = panda.read_excel(\"MASD2024_data.xlsx\")\n",
    "\n",
    "expected_grades = data[\"What grade do you expect to get in the course?\"].tolist()\n",
    "Rx = [-3, 0, 2, 4, 7, 10, 12]\n",
    "def p_X(x_k):\n",
    "    return (expected_grades.count(x_k) / len(expected_grades))\n",
    "\n",
    "def pmf(pxk: Callable):\n",
    "    y = []\n",
    "    for grade in Rx:\n",
    "        y.append(pxk(grade))\n",
    "    print(\"probs:\",y)\n",
    "    print(\"sum of all probablities:\",sum(y))\n",
    "    plt.bar(Rx, y)\n",
    "    plt.xticks(Rx)\n",
    "    plt.show()\n",
    "\n",
    "pmf(p_X)\n"
   ]
  },
  {
   "cell_type": "markdown",
   "metadata": {},
   "source": [
    "### Exercise 1b\n",
    "We are to find the expected value of X (the grades), we do se by using the sum formula for expectation in lecture1_week6.pdf slide 35"
   ]
  },
  {
   "cell_type": "code",
   "execution_count": 333,
   "metadata": {},
   "outputs": [
    {
     "name": "stdout",
     "output_type": "stream",
     "text": [
      "Expected value EX: 6.205882352941177\n"
     ]
    }
   ],
   "source": [
    "EX = 0\n",
    "for grade in Rx:\n",
    "    EX += grade * p_X(grade)\n",
    "print(\"Expected value EX:\",EX)\n"
   ]
  },
  {
   "cell_type": "markdown",
   "metadata": {},
   "source": [
    "### Exercise 1c\n",
    "We are to compute the variance of the expected grades based on the pmf. We do so by using the variance formula from lecture2_week6:\n",
    "\n",
    "$$\n",
    "\\text{Var}(X) = E(X^2) - [E(X)]^2\n",
    "$$\n",
    "We already calculated the expected value earlier in 1b, so now we calculate $E(X^2)$:\n"
   ]
  },
  {
   "cell_type": "code",
   "execution_count": 334,
   "metadata": {},
   "outputs": [
    {
     "name": "stdout",
     "output_type": "stream",
     "text": [
      "Expected value [EX]^2: 38.51297577854672\n",
      "Expected value squared EX^2: 47.088235294117645\n",
      "Variance of X: E(X^2) - [E(X)]^2 = 8.575259515570927\n"
     ]
    }
   ],
   "source": [
    "EX_squared = 0\n",
    "for grade in Rx:\n",
    "    EX_squared += (grade*grade) * p_X(grade)\n",
    "\n",
    "print(\"Expected value [EX]^2:\",EX*EX)\n",
    "print(\"Expected value squared EX^2:\",EX_squared)\n",
    "\n",
    "# Now we can compute the variance as E(X^2) - [E(X)]^2:\n",
    "var_X = EX_squared - (EX*EX)\n",
    "print(\"Variance of X: E(X^2) - [E(X)]^2 =\", var_X)"
   ]
  },
  {
   "cell_type": "markdown",
   "metadata": {},
   "source": [
    "### Exercise 2a\n",
    "We are to determine what the prior probability that a student has a high nervousness is ($nervousness \\geq 5$)"
   ]
  },
  {
   "cell_type": "code",
   "execution_count": 335,
   "metadata": {},
   "outputs": [
    {
     "name": "stdout",
     "output_type": "stream",
     "text": [
      "P(high_nv) = 0.5806451612903226\n"
     ]
    }
   ],
   "source": [
    "nv_level_data = data[\"The thought of being enrolled in a mathematics/statistics course makes me nervous.\"].tolist()\n",
    "nv_level = [entry for entry in nv_level_data if isinstance(entry, float) and not np.isnan(entry)]\n",
    "\n",
    "nv_geq_5 = [entry for entry in nv_level if entry >= 5.0]\n",
    "\n",
    "P_high_nv = len(nv_geq_5) / len(nv_level)\n",
    "print(\"P(high_nv) =\", P_high_nv)"
   ]
  },
  {
   "cell_type": "markdown",
   "metadata": {},
   "source": [
    "### Exercise 2b\n",
    "We are to calculate the conditional probability (likelihood) that a student attended an HTX high school, given that they\n",
    "have low nervousness (nervousness < 5): P(Student_attended_HTX | nv < 5)\n",
    "\n",
    "$$\n",
    "P(A|B) = \\frac{P(A \\cap B)}{P(B)}\n",
    "$$"
   ]
  },
  {
   "cell_type": "code",
   "execution_count": 336,
   "metadata": {},
   "outputs": [
    {
     "name": "stdout",
     "output_type": "stream",
     "text": [
      "P(HTX|Low nervousness(<5)): 0.39999999999999997\n"
     ]
    }
   ],
   "source": [
    "student_school = data[\"What type of high-school did you attend?\"].tolist()\n",
    "nv_less_5 = [entry for entry in nv_level if entry < 5.0]\n",
    "\n",
    "\n",
    "P_htx = student_school.count(\"HTX\") / len(student_school)\n",
    "P_nv_less_than_5 = len(nv_less_5) / len(nv_level)\n",
    "P_intersect = len([nv for nv, school in zip(nv_level, student_school) if nv < 5 and school == \"HTX\"]) / len(student_school)\n",
    "\n",
    "P_htx_given_nv_less_than_5 = P_intersect / P_htx\n",
    "\n",
    "print(\"P(HTX|Low nervousness(<5)):\", P_htx_given_nv_less_than_5)\n",
    "\n"
   ]
  },
  {
   "cell_type": "markdown",
   "metadata": {},
   "source": [
    "### Exercise 2c\n",
    "We are to Calculate the conditional probability (likelihood) that a student attended an STX high school, given that they\n",
    "have low nervousness (< 5): P(Student_attended_STX | nv < 5)\n",
    "\n",
    "$$\n",
    "P(A|B) = \\frac{P(A \\cap B)}{P(B)}\n",
    "$$"
   ]
  },
  {
   "cell_type": "code",
   "execution_count": 337,
   "metadata": {},
   "outputs": [
    {
     "name": "stdout",
     "output_type": "stream",
     "text": [
      "P(STX|Low nervousness(<5)): 0.3913043478260869\n"
     ]
    }
   ],
   "source": [
    "P_stx = student_school.count(\"STX\") / len(student_school)\n",
    "P_intersect_nvless5_stx = len([nv for nv, school in zip(nv_level, student_school) if nv < 5 and school == \"STX\"]) / len(student_school)\n",
    "P_stx_given_nv_less_than_5 = P_intersect_nvless5_stx / P_stx\n",
    "print(\"P(STX|Low nervousness(<5)):\", P_stx_given_nv_less_than_5)\n",
    "\n"
   ]
  },
  {
   "cell_type": "markdown",
   "metadata": {},
   "source": [
    "### Exercise 2d\n",
    "We are to calculate the conditional probability (posterior) that a student attended an HTX high school,\n",
    "given that they have low nervousness, using bayes rule. Bayes rule is defined as:\n",
    "\n",
    "$$\n",
    "P(A|B) = \\frac{P(B|A) \\cdot P(A)}{P(B)}\n",
    "$$\n",
    "\n",
    "Where P(A|B) is the posterior probability.\n"
   ]
  },
  {
   "cell_type": "code",
   "execution_count": 338,
   "metadata": {},
   "outputs": [
    {
     "name": "stdout",
     "output_type": "stream",
     "text": [
      "Conditional probability (posterior) that a student attended an HTX high school, given that they have low nervousness, using bayes rule: 0.4\n"
     ]
    }
   ],
   "source": [
    "# We start by calculating the conditional probability P(nv<5 | HTX):\n",
    "P_nvl5_given_htx = P_intersect / P_nv_less_than_5\n",
    "\n",
    "# Now we calculate the posterior probability using bayes rule:\n",
    "htx_given_nvl5_bayes = (P_nvl5_given_htx * P_nv_less_than_5) / P_htx\n",
    "\n",
    "print(\"Conditional probability (posterior) that a student attended an HTX high school, given that they have low nervousness, using bayes rule:\",htx_given_nvl5_bayes)\n"
   ]
  },
  {
   "cell_type": "markdown",
   "metadata": {},
   "source": [
    "### Exercise 2e\n",
    "We are to calculate the conditional probability (posterior) that a student attended an STX high school,\n",
    "given that they have low nervousness, using bayes rule. Bayes rule is defined as:\n",
    "\n",
    "$$\n",
    "P(A|B) = \\frac{P(B|A) \\cdot P(A)}{P(B)}\n",
    "$$\n",
    "\n",
    "Where P(A|B) is the posterior probability.\n"
   ]
  },
  {
   "cell_type": "code",
   "execution_count": 339,
   "metadata": {},
   "outputs": [
    {
     "name": "stdout",
     "output_type": "stream",
     "text": [
      "Conditional probability (posterior) that a student attended an STX high school, given that they have low nervousness, using bayes rule: 0.3913043478260869\n"
     ]
    }
   ],
   "source": [
    "# We start by calculating the conditional probability P(nv<5 | HTX):\n",
    "P_nvl5_given_stx = P_intersect_nvless5_stx / P_nv_less_than_5\n",
    "\n",
    "# Now we calculate the posterior probability using bayes rule:\n",
    "stx_given_nvl5_bayes = (P_nvl5_given_stx * P_nv_less_than_5) / P_stx\n",
    "\n",
    "print(\"Conditional probability (posterior) that a student attended an STX high school, given that they have low nervousness, using bayes rule:\",stx_given_nvl5_bayes)\n"
   ]
  },
  {
   "cell_type": "markdown",
   "metadata": {},
   "source": [
    "### Exercise 2f\n",
    "Q: Based on the posterior probabilities, does the data support the assumption that students from HTX high schools\n",
    "tend to feel more comfortable (as indicated by lower nervousness) compared to STX?\n"
   ]
  },
  {
   "cell_type": "markdown",
   "metadata": {},
   "source": [
    "Answer: Given our results from calculating the posterior probabilities, we can conclude that there is a slight (approx. 1%) greater probablity that an HTX student would be more confident (ie. have low nervousness)"
   ]
  },
  {
   "cell_type": "code",
   "execution_count": 340,
   "metadata": {},
   "outputs": [
    {
     "name": "stdout",
     "output_type": "stream",
     "text": [
      "Probability of low nervousness in:\n",
      "STX: 0.3913043478260869\n",
      "HTX: 0.4\n",
      "Based on on the posterior probabilities HTX students tend to be more comfortable compared to STX students\n"
     ]
    }
   ],
   "source": [
    "print(\"Probability of low nervousness in:\")\n",
    "print(\"STX:\",stx_given_nvl5_bayes)\n",
    "print(\"HTX:\",htx_given_nvl5_bayes)\n",
    "moreComfy = \"STX students\" if (stx_given_nvl5_bayes > htx_given_nvl5_bayes) else \"HTX students\"\n",
    "lessComfy = \"HTX students\" if (stx_given_nvl5_bayes > htx_given_nvl5_bayes) else \"STX students\"\n",
    "print (f\"Based on on the posterior probabilities {moreComfy} tend to be more comfortable compared to {lessComfy}\")"
   ]
  },
  {
   "cell_type": "markdown",
   "metadata": {},
   "source": [
    "### Exercise 3a\n",
    "We are to simply use the given CDF to compute the probability that a student’s expected grade is less than 7. We do so, by simply plugging 7 into our CDF."
   ]
  },
  {
   "cell_type": "code",
   "execution_count": 341,
   "metadata": {},
   "outputs": [
    {
     "name": "stdout",
     "output_type": "stream",
     "text": [
      "Probability that a student’s expected grade is less than 7: 0.882\n"
     ]
    }
   ],
   "source": [
    "def CDF(x):\n",
    "    if (x < -3):\n",
    "        return 0\n",
    "    elif (x >= -3 and x < 2):\n",
    "        return 0.0588 * (x + 3)\n",
    "    elif (x >= 2 and x < 7):\n",
    "        return 0.294 + 0.1176 * (x - 2)\n",
    "    elif (x >= 7 and x < 12):\n",
    "        return 0.882 + 0.0235 * (x - 7)\n",
    "    elif (x >= 12):\n",
    "        return 1\n",
    "\n",
    "P_expected_grade_less_than_7 = CDF(7)\n",
    "print (\"Probability that a student’s expected grade is less than 7:\", P_expected_grade_less_than_7)"
   ]
  },
  {
   "cell_type": "markdown",
   "metadata": {},
   "source": [
    "### Exercise 3b\n",
    "We are to Compute the median (50th percentile) of the expected grade distribution using the given CDF.\n",
    "\n",
    "This means we need to find the value of x for the CDF that gives us 0.5\n",
    "We do so by isolating x in the valid range of the CDF where its possible to get 0.5, which is when (x >= 2 and x < 7):\n",
    "\n",
    "$$\n",
    "0.294 + 0.1176 * (x - 2) = 0.5\n",
    "$$\n",
    "We now isolate x:\n",
    "$$\n",
    "0.1176 * (x - 2) = 0.5-0.294\n",
    "$$\n",
    "$$\n",
    "x - 2 = \\frac{0.206}{0.1176}\n",
    "$$\n",
    "$$\n",
    "x = \\frac{0.206}{0.1176} + 2\n",
    "$$\n"
   ]
  },
  {
   "cell_type": "code",
   "execution_count": 342,
   "metadata": {},
   "outputs": [
    {
     "name": "stdout",
     "output_type": "stream",
     "text": [
      "Median (50th percentile): 3.751700680272109\n"
     ]
    }
   ],
   "source": [
    "print(\"Median (50th percentile):\", (0.206/0.1176)+2)"
   ]
  },
  {
   "cell_type": "markdown",
   "metadata": {},
   "source": [
    "### Exercise 3c\n",
    "We are to derive the probability density function (PDF) from the given CDF and estimate the expected value and variance\n",
    "of the expected grades\n",
    "\n",
    "We know that the PDF can be derived from the CDF by taking the derivative of the CDF. Therefor we do so now:\n",
    "\n",
    "$$\n",
    "\\text{CDF}(x) =\n",
    "\\begin{cases} \n",
    "0 & \\text{if } x < -3 \\\\\n",
    "0.0588 \\cdot (x + 3) & \\text{if } -3 \\leq x < 2 \\\\\n",
    "0.294 + 0.1176 \\cdot (x - 2) & \\text{if } 2 \\leq x < 7 \\\\\n",
    "0.882 + 0.0235 \\cdot (x - 7) & \\text{if } 7 \\leq x < 12 \\\\\n",
    "1 & \\text{if } x \\geq 12\n",
    "\\end{cases}\n",
    "\n",
    "$$\n",
    "\n",
    "When taking the derivative of a piecewise funciton, we simply take the derivative of each defined part of the function as so:\n",
    "\n",
    "$\\text{if } x < -3$\n",
    "Here taking the derivative of a constant is just 0.\n",
    "$$\n",
    "\\frac{d}{dx}(0) = 0\n",
    "$$\n",
    "$\\text{if } -3 \\leq x < 2$\n",
    "$$\n",
    "\\frac{d}{dx}(0.0588 \\cdot (x + 3))\n",
    "$$\n",
    "Firstly we multiply into the parentheses:\n",
    "$$\n",
    "\\frac{d}{dx}(0.0588x + 0.1764)\n",
    "$$\n",
    "Now its clear that we have a linear equation, and we use the linear function rule $\\frac{d}{dx}a*x+b = a$\n",
    "$$\n",
    "\\frac{d}{dx}(0.0588x + 0.1764) = 0.0588\n",
    "$$\n",
    "$\\text{if } 2 \\leq x < 7$\n",
    "$$\n",
    "\\frac{d}{dx}(0.294 + 0.1176 \\cdot (x - 2)) = \n",
    "$$\n",
    "Again we see here the same pattern as before, so we know that we have to use the linear function rule:\n",
    "$$\n",
    "\\frac{d}{dx}(0.294 + 0.1176 \\cdot (x - 2)) = 0.1176\n",
    "$$\n",
    "$\\text{if } 7 \\leq x < 12$\n",
    "$$\n",
    "\\frac{d}{dx}(0.882 + 0.0235 \\cdot (x - 7)) =\n",
    "$$\n",
    "Once again we see that this is a linear function, and apply the rule:\n",
    "$$\n",
    "\\frac{d}{dx}(0.882 + 0.0235 \\cdot (x - 7)) = 0.0235\n",
    "$$\n",
    "$\\text{if } x \\geq 12$\n",
    "as here we have constant, the derivative is 0.\n",
    "$$\n",
    "\\frac{d}{dx}(1) = 0\n",
    "$$\n",
    "\n",
    "Now we have calculated all the derivatives and can put it back together as a piecewise defined function for the PDF:\n",
    "$$\n",
    "\\text{PDF}(x) =\n",
    "\\begin{cases} \n",
    "0 & \\text{if } x < -3 \\\\\n",
    "0.0588 & \\text{if } -3 \\leq x < 2 \\\\\n",
    "0.1176 & \\text{if } 2 \\leq x < 7 \\\\\n",
    "0.0235 & \\text{if } 7 \\leq x < 12 \\\\\n",
    "0 & \\text{if } x \\geq 12\n",
    "\\end{cases}\n",
    "\n",
    "$$\n",
    "\n",
    "Now we can find the expected value using the formular using the PDF, where the PDF is defined as $f_X(x)$:\n",
    "$$\n",
    "E[X] = \\int_{-\\infty}^{\\infty} x \\cdot f_X(x) \\, dx\n",
    "$$"
   ]
  },
  {
   "cell_type": "code",
   "execution_count": 343,
   "metadata": {},
   "outputs": [
    {
     "name": "stdout",
     "output_type": "stream",
     "text": [
      "Expected value using the PDF: 3.6152500004998758\n"
     ]
    }
   ],
   "source": [
    "def f_X(x):\n",
    "    if (x < -3):\n",
    "        return 0\n",
    "    elif (x >= -3 and x < 2):\n",
    "        return 0.0588\n",
    "    elif (x >= 2 and x < 7):\n",
    "        return 0.1176\n",
    "    elif (x >= 7 and x < 12):\n",
    "        return 0.0235\n",
    "    elif (x >= 12):\n",
    "        return 0\n",
    "def expected_value(x):\n",
    "    return x*f_X(x)\n",
    "\n",
    "# Now we integrate over -infinity to infinity:\n",
    "EX_using_pdf, error = quad(expected_value, -np.inf, np.inf)\n",
    "print(\"Expected value using the PDF:\",EX_using_pdf)"
   ]
  },
  {
   "cell_type": "markdown",
   "metadata": {},
   "source": [
    "Kan godt være at vi skal lave integralet i hånden?"
   ]
  },
  {
   "cell_type": "markdown",
   "metadata": {},
   "source": [
    "To calculate the variance we use the formula:\n",
    "$$\n",
    "\\text{Var}(X) = E[X^2] - (E[X])^2\n",
    "$$\n",
    "We have already calculated the expected value, so we now calculate $E[X^2]$"
   ]
  },
  {
   "cell_type": "code",
   "execution_count": 344,
   "metadata": {},
   "outputs": [
    {
     "name": "stdout",
     "output_type": "stream",
     "text": [
      "Variance of the expected grades: 11.597134108074938\n"
     ]
    }
   ],
   "source": [
    "def expected_value_squared(x):\n",
    "    return (x*x)*f_X(x)\n",
    "EX_squared_pdf, error2 = quad(expected_value_squared, -np.inf, np.inf)\n",
    "\n",
    "var_X_pdf = EX_squared_pdf - (EX_using_pdf * EX_using_pdf)\n",
    "print(\"Variance of the expected grades:\", var_X_pdf)"
   ]
  },
  {
   "cell_type": "markdown",
   "metadata": {},
   "source": [
    "### Exercise 3d\n",
    "We are to plot the given CDF for expected grades, and identify region(s) where the probability mass is concentrated"
   ]
  },
  {
   "cell_type": "markdown",
   "metadata": {},
   "source": [
    "First we can plot the given CDF for expected grades"
   ]
  },
  {
   "cell_type": "code",
   "execution_count": 345,
   "metadata": {},
   "outputs": [
    {
     "data": {
      "image/png": "[encoded data removed]",
      "text/plain": [
       "<Figure size 640x480 with 1 Axes>"
      ]
     },
     "metadata": {},
     "output_type": "display_data"
    }
   ],
   "source": [
    "x_values = np.linspace(-3,12,400)\n",
    "y_values = []\n",
    "grades = [-3, 00, 2, 4, 7, 10, 12]\n",
    "\n",
    "i=0\n",
    "while i < len(x_values):\n",
    "  y_values.append(CDF(x_values[i]))\n",
    "  i += 1\n",
    "\n",
    "y_values = np.array(y_values)\n",
    "plt.plot(x_values,y_values)\n",
    "plt.xticks(grades)\n",
    "plt.grid(True)\n",
    "plt.show()"
   ]
  },
  {
   "cell_type": "markdown",
   "metadata": {},
   "source": [
    "From the graph we can see that in the interval 2-7, the function graph is steepest. This means that a lot of the probaility accumalates in this interval, and therefore this is the region where the probability mass is concentrated."
   ]
  },
  {
   "cell_type": "markdown",
   "metadata": {},
   "source": [
    "### Exercise 4a\n",
    "We are to find P(X>6) from the normal distrubtion of programming experience level survey. We have μ = 3.71 and σ = 1.25."
   ]
  }
 ],
 "metadata": {
  "kernelspec": {
   "display_name": "Python 3",
   "language": "python",
   "name": "python3"
  },
  "language_info": {
   "codemirror_mode": {
    "name": "ipython",
    "version": 3
   },
   "file_extension": ".py",
   "mimetype": "text/x-python",
   "name": "python",
   "nbconvert_exporter": "python",
   "pygments_lexer": "ipython3",
   "version": "3.12.6"
  },
  "varInspector": {
   "cols": {
    "lenName": 16,
    "lenType": 16,
    "lenVar": 40
   },
   "kernels_config": {
    "python": {
     "delete_cmd_postfix": "",
     "delete_cmd_prefix": "del ",
     "library": "var_list.py",
     "varRefreshCmd": "print(var_dic_list())"
    },
    "r": {
     "delete_cmd_postfix": ") ",
     "delete_cmd_prefix": "rm(",
     "library": "var_list.r",
     "varRefreshCmd": "cat(var_dic_list()) "
    }
   },
   "types_to_exclude": [
    "module",
    "function",
    "builtin_function_or_method",
    "instance",
    "_Feature"
   ],
   "window_display": false
  }
 },
 "nbformat": 4,
 "nbformat_minor": 4
}
